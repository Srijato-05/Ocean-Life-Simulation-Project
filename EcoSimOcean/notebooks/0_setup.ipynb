{
 "cells": [
  {
   "cell_type": "code",
   "execution_count": 1,
   "id": "d0863cfe-b342-4e8e-a00e-a447c5b31fcb",
   "metadata": {},
   "outputs": [
    {
     "name": "stdout",
     "output_type": "stream",
     "text": [
      "✅ Basic Python imports successful.\n"
     ]
    }
   ],
   "source": [
    "# Jupyter Notebook Cell 1 - Basic Imports\n",
    "import os\n",
    "import sys\n",
    "import json\n",
    "from pathlib import Path\n",
    "\n",
    "print(\"✅ Basic Python imports successful.\")"
   ]
  },
  {
   "cell_type": "code",
   "execution_count": 2,
   "id": "6a752007-3673-485d-bba1-ffcafe9a3da2",
   "metadata": {},
   "outputs": [
    {
     "name": "stdout",
     "output_type": "stream",
     "text": [
      "✅ Added to sys.path: C:\\Users\\User\\VS_Code_Srijato\\Projects\\EcoSimOcean\\src\n"
     ]
    }
   ],
   "source": [
    "# Jupyter Notebook Cell 2 - Add src/ to path\n",
    "src_path = Path(\"..\") / \"src\"\n",
    "if src_path.exists():\n",
    "    sys.path.append(str(src_path.resolve()))\n",
    "    print(f\"✅ Added to sys.path: {src_path.resolve()}\")\n",
    "else:\n",
    "    raise FileNotFoundError(\"❌ src/ directory not found.\")"
   ]
  },
  {
   "cell_type": "code",
   "execution_count": 3,
   "id": "f1d947a8-50f1-4664-964e-8046cc64ea8f",
   "metadata": {},
   "outputs": [
    {
     "name": "stdout",
     "output_type": "stream",
     "text": [
      "✅ Custom module imports successful.\n"
     ]
    }
   ],
   "source": [
    "# Jupyter Notebook Cell 3 - Test imports from src\n",
    "try:\n",
    "    import config\n",
    "    import environment\n",
    "    from species import fish, zooplankton\n",
    "    from utils import grid_utils\n",
    "    print(\"✅ Custom module imports successful.\")\n",
    "except ImportError as e:\n",
    "    print(f\"❌ ImportError: {e}\")"
   ]
  },
  {
   "cell_type": "code",
   "execution_count": 4,
   "id": "9903aa1d-7f9e-4040-8619-96216516cc0c",
   "metadata": {},
   "outputs": [
    {
     "name": "stdout",
     "output_type": "stream",
     "text": [
      "✅ Directory verified: ../data\n",
      "✅ Directory verified: ../data/logs\n",
      "✅ Directory verified: ../assets\n",
      "✅ Directory verified: ../assets/species_icons\n"
     ]
    }
   ],
   "source": [
    "# Jupyter Notebook Cell 4 - Check folders and create if missing\n",
    "required_dirs = [\n",
    "    \"../data\",\n",
    "    \"../data/logs\",\n",
    "    \"../assets\",\n",
    "    \"../assets/species_icons\"\n",
    "]\n",
    "\n",
    "for d in required_dirs:\n",
    "    Path(d).mkdir(parents=True, exist_ok=True)\n",
    "    print(f\"✅ Directory verified: {d}\")"
   ]
  },
  {
   "cell_type": "code",
   "execution_count": 5,
   "id": "e6d67972-6aa4-458c-b1fa-883735efc8c9",
   "metadata": {},
   "outputs": [
    {
     "name": "stdout",
     "output_type": "stream",
     "text": [
      "✅ species_config.json exists.\n"
     ]
    }
   ],
   "source": [
    "# Jupyter Notebook Cell 5 - Test JSON config existence\n",
    "config_path = Path(\"../data/species_config.json\")\n",
    "if not config_path.exists():\n",
    "    config_path.write_text(json.dumps({\n",
    "        \"zooplankton\": {\n",
    "            \"size\": 1,\n",
    "            \"speed\": 1.5,\n",
    "            \"energy_per_move\": 0.1,\n",
    "            \"water_content\": 0.9\n",
    "        }\n",
    "    }, indent=4))\n",
    "    print(\"🆕 Created sample species_config.json.\")\n",
    "else:\n",
    "    print(\"✅ species_config.json exists.\")\n"
   ]
  },
  {
   "cell_type": "code",
   "execution_count": 6,
   "id": "8e65fd00-58d6-4e2f-b9be-8427aa8ce1b8",
   "metadata": {},
   "outputs": [
    {
     "name": "stdout",
     "output_type": "stream",
     "text": [
      "🎉 Environment setup complete. You're ready to start developing EcoSimOcean!\n"
     ]
    }
   ],
   "source": [
    "# Jupyter Notebook Cell 6 - Wrap-up check\n",
    "print(\"🎉 Environment setup complete. You're ready to start developing EcoSimOcean!\")"
   ]
  },
  {
   "cell_type": "code",
   "execution_count": null,
   "id": "2aa13479-f441-4fdb-ab7f-2b7a1d53ae78",
   "metadata": {},
   "outputs": [],
   "source": []
  }
 ],
 "metadata": {
  "kernelspec": {
   "display_name": "Python 3 (ipykernel)",
   "language": "python",
   "name": "python3"
  },
  "language_info": {
   "codemirror_mode": {
    "name": "ipython",
    "version": 3
   },
   "file_extension": ".py",
   "mimetype": "text/x-python",
   "name": "python",
   "nbconvert_exporter": "python",
   "pygments_lexer": "ipython3",
   "version": "3.13.5"
  }
 },
 "nbformat": 4,
 "nbformat_minor": 5
}
