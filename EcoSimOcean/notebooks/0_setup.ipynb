{
 "cells": [
  {
   "cell_type": "markdown",
   "id": "ad7c4011",
   "metadata": {},
   "source": [
    "# EcoSimOcean - Environment Setup & Verification\n",
    "\n",
    "## Goal\n",
    "This notebook verifies that the project environment is set up correctly. It performs the following checks:\n",
    "1. Adds the project's `src` directory to the Python path.\n",
    "2. Tests that all core custom modules can be imported without error.\n",
    "3. Verifies that all required directories (`results`, `scripts`, `src/config`) exist.\n",
    "4. Ensures that the essential configuration files (`sim_config.json`, `fauna_config.json`) are in place."
   ]
  },
  {
   "cell_type": "code",
   "execution_count": 7,
   "id": "ba6c27a6",
   "metadata": {},
   "outputs": [
    {
     "name": "stdout",
     "output_type": "stream",
     "text": [
      "Basic Python imports successful.\n"
     ]
    }
   ],
   "source": [
    "import os\n",
    "import sys\n",
    "import json\n",
    "\n",
    "print(\"Basic Python imports successful.\")"
   ]
  },
  {
   "cell_type": "markdown",
   "id": "87332e29",
   "metadata": {},
   "source": [
    "### 1. Add Project to System Path"
   ]
  },
  {
   "cell_type": "code",
   "execution_count": 8,
   "id": "8906c122",
   "metadata": {},
   "outputs": [
    {
     "name": "stdout",
     "output_type": "stream",
     "text": [
      "Project root already in sys.path: C:\\Users\\User\\VS_Code_Srijato\\Projects\\EcoSimOcean\n"
     ]
    }
   ],
   "source": [
    "# Add the project root to the Python path to allow imports from src/\n",
    "project_root = os.path.abspath(os.path.join(os.getcwd(), '..'))\n",
    "if project_root not in sys.path:\n",
    "    sys.path.insert(0, project_root)\n",
    "    print(f\"Added to sys.path: {project_root}\")\n",
    "else:\n",
    "    print(f\"Project root already in sys.path: {project_root}\")"
   ]
  },
  {
   "cell_type": "markdown",
   "id": "9a927417",
   "metadata": {},
   "source": [
    "### 2. Test Core Module Imports"
   ]
  },
  {
   "cell_type": "code",
   "execution_count": 9,
   "id": "f9fa01d9",
   "metadata": {},
   "outputs": [
    {
     "name": "stdout",
     "output_type": "stream",
     "text": [
      "All core custom module imports were successful.\n"
     ]
    }
   ],
   "source": [
    "# Test that all major components from the 'src' directory can be imported\n",
    "try:\n",
    "    from src.environment import Environment\n",
    "    from src.simulation.simulation_manager import SimulationManager\n",
    "    from src.agents.zooplankton import Zooplankton\n",
    "    from src.agents.small_fish import SmallFish\n",
    "    from src.agents.crab import Crab\n",
    "    from src.utils.config_loader import load_fauna_config, load_sim_config\n",
    "    print(\"All core custom module imports were successful.\")\n",
    "except ImportError as e:\n",
    "    print(f\"A module could not be imported. Error: {e}\")"
   ]
  },
  {
   "cell_type": "markdown",
   "id": "f8587783",
   "metadata": {},
   "source": [
    "### 3. Verify Directory Structure"
   ]
  },
  {
   "cell_type": "code",
   "execution_count": 10,
   "id": "a643d7e8",
   "metadata": {},
   "outputs": [
    {
     "name": "stdout",
     "output_type": "stream",
     "text": [
      "Directory verified: ..\\assets\n",
      "Directory verified: ..\\data\n",
      "Directory verified: ..\\results\n",
      "Directory verified: ..\\scripts\n",
      "Directory verified: ..\\src\\config\n"
     ]
    }
   ],
   "source": [
    "# Check for required folders and create them if they are missing\n",
    "required_dirs = [\n",
    "    os.path.join(project_root, 'assets'),\n",
    "    os.path.join(project_root, 'data'),\n",
    "    os.path.join(project_root, 'results'),\n",
    "    os.path.join(project_root, 'scripts'),\n",
    "    os.path.join(project_root, 'src', 'config')\n",
    "]\n",
    "\n",
    "for d in required_dirs:\n",
    "    os.makedirs(d, exist_ok=True)\n",
    "    print(f\"Directory verified: {os.path.relpath(d)}\")"
   ]
  },
  {
   "cell_type": "markdown",
   "id": "a43f75bc",
   "metadata": {},
   "source": [
    "### 4. Verify Configuration Files"
   ]
  },
  {
   "cell_type": "code",
   "execution_count": 11,
   "id": "09598d59",
   "metadata": {},
   "outputs": [
    {
     "name": "stdout",
     "output_type": "stream",
     "text": [
      "sim_config.json exists.\n",
      "fauna_config.json exists.\n"
     ]
    }
   ],
   "source": [
    "# Check for the essential sim_config.json and fauna_config.json files\n",
    "config_dir = os.path.join(project_root, 'src', 'config')\n",
    "sim_config_path = os.path.join(config_dir, 'sim_config.json')\n",
    "fauna_config_path = os.path.join(config_dir, 'fauna_config.json')\n",
    "\n",
    "if not os.path.exists(sim_config_path):\n",
    "    print(\" sim_config.json not found. Creating a default version.\")\n",
    "    default_sim_config = {\n",
    "        \"grid_width\": 50,\n",
    "        \"grid_height\": 50,\n",
    "        \"grid_depth\": 15,\n",
    "        \"initial_food_density\": 0.7,\n",
    "        \"simulation_ticks\": 500,\n",
    "        \"initial_zooplankton_count\": 1500,\n",
    "        \"initial_small_fish_count\": 100,\n",
    "        \"initial_crab_count\": 50,\n",
    "        \"plankton_diffusion_rate\": 0.05,\n",
    "        \"plankton_max_growth_rate\": 0.4\n",
    "    }\n",
    "    with open(sim_config_path, 'w') as f:\n",
    "        json.dump(default_sim_config, f, indent=4)\n",
    "else:\n",
    "    print(\"sim_config.json exists.\")\n",
    "\n",
    "if not os.path.exists(fauna_config_path):\n",
    "    print(\" fauna_config.json not found. Creating a default version.\")\n",
    "    # NOTE: This is just a sample. The optimized values are recommended.\n",
    "    default_fauna_config = {\n",
    "        \"Zooplankton\": {\"reproduction_threshold\": 20, \"max_lifespan\": 150},\n",
    "        \"SmallFish\": {\"reproduction_threshold\": 50, \"max_lifespan\": 400},\n",
    "        \"Crab\": {\"reproduction_threshold\": 25, \"max_lifespan\": 500}\n",
    "    }\n",
    "    with open(fauna_config_path, 'w') as f:\n",
    "        json.dump(default_fauna_config, f, indent=4)\n",
    "else:\n",
    "    print(\"fauna_config.json exists.\")"
   ]
  },
  {
   "cell_type": "markdown",
   "id": "9e579e12",
   "metadata": {},
   "source": [
    "### 5. Setup Complete\n",
    "\n",
    "If all checks above passed with a ✅, your environment is ready for development and simulation runs."
   ]
  },
  {
   "cell_type": "code",
   "execution_count": 12,
   "id": "8c033c3a",
   "metadata": {},
   "outputs": [
    {
     "name": "stdout",
     "output_type": "stream",
     "text": [
      "Environment setup is complete and verified!\n"
     ]
    }
   ],
   "source": [
    "print(\"Environment setup is complete and verified!\")"
   ]
  }
 ],
 "metadata": {
  "kernelspec": {
   "display_name": "Python 3 (ipykernel)",
   "language": "python",
   "name": "python3"
  },
  "language_info": {
   "codemirror_mode": {
    "name": "ipython",
    "version": 3
   },
   "file_extension": ".py",
   "mimetype": "text/x-python",
   "name": "python",
   "nbconvert_exporter": "python",
   "pygments_lexer": "ipython3",
   "version": "3.13.5"
  }
 },
 "nbformat": 4,
 "nbformat_minor": 5
}
