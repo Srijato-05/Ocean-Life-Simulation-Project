{
 "cells": [
  {
   "cell_type": "markdown",
   "id": "abf7cf6c",
   "metadata": {},
   "source": [
    "# Phase 1: Environment Validation (CA Version)\n",
    "\n",
    "This notebook initializes the 3D ocean environment and validates that the new Cellular Automata (CA) dynamics for the plankton layer are working correctly."
   ]
  },
  {
   "cell_type": "code",
   "execution_count": 8,
   "id": "50644969",
   "metadata": {},
   "outputs": [
    {
     "name": "stdout",
     "output_type": "stream",
     "text": [
      "Setup complete. Modules imported.\n"
     ]
    }
   ],
   "source": [
    "# Setup sys.path for imports from src/\n",
    "import os\n",
    "import sys\n",
    "import numpy as np\n",
    "\n",
    "project_root = os.path.abspath(os.path.join(os.getcwd(), \"..\"))\n",
    "if project_root not in sys.path:\n",
    "    sys.path.insert(0, project_root)\n",
    "\n",
    "# Import modules from src\n",
    "from src.environment import Environment\n",
    "from src.utils.config_loader import load_sim_config # Import the config loader\n",
    "\n",
    "print(\"Setup complete. Modules imported.\")"
   ]
  },
  {
   "cell_type": "markdown",
   "id": "2801e053",
   "metadata": {},
   "source": [
    "## Initialize Environment\n",
    "Here we load the main simulation configuration and pass it to the Environment constructor. This resolves the `TypeError` by providing the required `config` object."
   ]
  },
  {
   "cell_type": "code",
   "execution_count": 9,
   "id": "9571763a",
   "metadata": {},
   "outputs": [
    {
     "name": "stdout",
     "output_type": "stream",
     "text": [
      "Environment initialized successfully.\n",
      "Dimensions: W=50, H=50, D=15\n"
     ]
    }
   ],
   "source": [
    "# --- THIS IS THE CORRECTED BLOCK ---\n",
    "\n",
    "# 1. Load the simulation configuration from the JSON file\n",
    "sim_config = load_sim_config()\n",
    "\n",
    "# 2. Create an instance of the environment, passing the config\n",
    "env = Environment(\n",
    "    width=sim_config['grid_width'], \n",
    "    height=sim_config['grid_height'], \n",
    "    depth=sim_config['grid_depth'], \n",
    "    config=sim_config\n",
    ")\n",
    "\n",
    "print(\"Environment initialized successfully.\")\n",
    "print(f\"Dimensions: W={env.width}, H={env.height}, D={env.depth}\")"
   ]
  },
  {
   "cell_type": "markdown",
   "id": "6f76f6c0",
   "metadata": {},
   "source": [
    "## Observe Plankton Dynamics\n",
    "Let's run the environment's update loop a few times and observe the total amount of plankton. We expect this value to change as the Cellular Automata rules for diffusion and growth are applied."
   ]
  },
  {
   "cell_type": "code",
   "execution_count": 10,
   "id": "c39b35aa",
   "metadata": {},
   "outputs": [
    {
     "name": "stdout",
     "output_type": "stream",
     "text": [
      "Initial Total Plankton: 13124.74\n",
      "Tick  1: Total Plankton = 13255.68\n",
      "Tick  2: Total Plankton = 13394.43\n",
      "Tick  3: Total Plankton = 13538.10\n",
      "Tick  4: Total Plankton = 13685.17\n",
      "Tick  5: Total Plankton = 13834.75\n",
      "Tick  6: Total Plankton = 13986.26\n",
      "Tick  7: Total Plankton = 14139.24\n",
      "Tick  8: Total Plankton = 14293.32\n",
      "Tick  9: Total Plankton = 14448.21\n",
      "Tick 10: Total Plankton = 14603.63\n",
      "\n",
      "Plankton dynamics simulation complete.\n"
     ]
    }
   ],
   "source": [
    "print(f\"Initial Total Plankton: {env.plankton.sum():.2f}\")\n",
    "\n",
    "# Run the environment update 10 times\n",
    "for i in range(10):\n",
    "    env.update()\n",
    "    print(f\"Tick {i+1:2}: Total Plankton = {env.plankton.sum():.2f}\")\n",
    "\n",
    "print(\"\\nPlankton dynamics simulation complete.\")"
   ]
  }
 ],
 "metadata": {
  "kernelspec": {
   "display_name": "Python 3 (ipykernel)",
   "language": "python",
   "name": "python3"
  },
  "language_info": {
   "codemirror_mode": {
    "name": "ipython",
    "version": 3
   },
   "file_extension": ".py",
   "mimetype": "text/x-python",
   "name": "python",
   "nbconvert_exporter": "python",
   "pygments_lexer": "ipython3",
   "version": "3.13.5"
  }
 },
 "nbformat": 4,
 "nbformat_minor": 5
}
